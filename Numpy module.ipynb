{
 "cells": [
  {
   "cell_type": "code",
   "execution_count": 1,
   "id": "17b44b39",
   "metadata": {},
   "outputs": [
    {
     "name": "stdout",
     "output_type": "stream",
     "text": [
      "6\n",
      "9\n"
     ]
    }
   ],
   "source": [
    "import numpy as np\n",
    "\n",
    "# 2D array (matrix)\n",
    "array_2d = np.array([[1, 2, 3],\n",
    "                     [4, 5, 6],\n",
    "                     [7, 8, 9]])\n",
    "\n",
    "# Accessing elements\n",
    "print(array_2d[1, 2])  # Output: 6\n",
    "\n",
    "# 3D array\n",
    "array_3d = np.array([[[1, 2, 3],\n",
    "                      [4, 5, 6]],\n",
    "                     [[7, 8, 9],\n",
    "                      [10, 11, 12]]])\n",
    "\n",
    "# Accessing elements\n",
    "print(array_3d[1, 0, 2])  # Output: 9\n",
    "\n"
   ]
  },
  {
   "cell_type": "code",
   "execution_count": 2,
   "id": "7a25a878",
   "metadata": {},
   "outputs": [
    {
     "name": "stdout",
     "output_type": "stream",
     "text": [
      "6\n",
      "9\n"
     ]
    }
   ],
   "source": [
    "# 2D array (matrix)\n",
    "array_2d = [[1, 2, 3],\n",
    "            [4, 5, 6],\n",
    "            [7, 8, 9]]\n",
    "\n",
    "# Accessing elements\n",
    "print(array_2d[1][2])  # Output: 6\n",
    "\n",
    "# 3D array\n",
    "array_3d = [[[1, 2, 3],\n",
    "             [4, 5, 6]],\n",
    "            [[7, 8, 9],\n",
    "             [10, 11, 12]]]\n",
    "\n",
    "# Accessing elements\n",
    "print(array_3d[1][0][2])  # Output: 9\n"
   ]
  },
  {
   "cell_type": "code",
   "execution_count": null,
   "id": "67a2d465",
   "metadata": {},
   "outputs": [],
   "source": []
  }
 ],
 "metadata": {
  "kernelspec": {
   "display_name": "Python 3 (ipykernel)",
   "language": "python",
   "name": "python3"
  },
  "language_info": {
   "codemirror_mode": {
    "name": "ipython",
    "version": 3
   },
   "file_extension": ".py",
   "mimetype": "text/x-python",
   "name": "python",
   "nbconvert_exporter": "python",
   "pygments_lexer": "ipython3",
   "version": "3.9.13"
  }
 },
 "nbformat": 4,
 "nbformat_minor": 5
}
